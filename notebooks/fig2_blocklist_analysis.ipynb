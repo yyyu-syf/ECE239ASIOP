{
 "cells": [
  {
   "cell_type": "markdown",
   "id": "562dc04b",
   "metadata": {},
   "source": [
    "## Imports"
   ]
  },
  {
   "cell_type": "code",
   "execution_count": 9,
   "id": "b1f3c965",
   "metadata": {},
   "outputs": [],
   "source": [
    "import numpy as np\n",
    "import matplotlib.pyplot as plt\n",
    "import requests\n",
    "from requests.auth import HTTPBasicAuth\n",
    "from bs4 import BeautifulSoup\n",
    "import json\n",
    "import pandas as pd\n",
    "\n",
    "import sys\n",
    "sys.path.append('..')\n",
    "\n",
    "from utils.fig2_blocklist_utils import *"
   ]
  },
  {
   "cell_type": "markdown",
   "id": "d6e24ed7",
   "metadata": {},
   "source": [
    "## Setup"
   ]
  },
  {
   "cell_type": "code",
   "execution_count": 10,
   "id": "fc7a3356",
   "metadata": {},
   "outputs": [
    {
     "data": {
      "text/plain": [
       "298"
      ]
     },
     "execution_count": 10,
     "metadata": {},
     "output_type": "execute_result"
    }
   ],
   "source": [
    "# manual only\n",
    "file_manual = '../data/raw/fig2/censys_manual.json'\n",
    "\n",
    "# Read and load the JSON file\n",
    "with open(file_manual, \"r\") as f:\n",
    "    all_query_data = json.load(f)\n",
    "\n",
    "# aggregate dns list\n",
    "dns_list = []\n",
    "for i in range(len(all_query_data)):\n",
    "    dns_list.append(get_dns_names_from_query(all_query_data[i]))\n",
    "dns_list = list(flatten_array(dns_list))\n",
    "\n",
    "# aggregate ip list\n",
    "ip_list = []\n",
    "for i in range(len(all_query_data)):\n",
    "    ip_list.append(get_ips_from_query(all_query_data[i]))\n",
    "ip_list= list(flatten_array(ip_list))\n",
    "\n",
    "len(ip_list)"
   ]
  },
  {
   "cell_type": "code",
   "execution_count": 11,
   "id": "d2898578",
   "metadata": {},
   "outputs": [
    {
     "data": {
      "text/plain": [
       "8431"
      ]
     },
     "execution_count": 11,
     "metadata": {},
     "output_type": "execute_result"
    }
   ],
   "source": [
    "# combined manual and llm result\n",
    "file_manual_llm = '../data/raw/fig2/manual_llm_overlap.csv'\n",
    "df = pd.read_csv(file_manual_llm)\n",
    "ip_list_manual_llm = df['host']\n",
    "\n",
    "len(ip_list_manual_llm)"
   ]
  },
  {
   "cell_type": "markdown",
   "id": "619cbf51",
   "metadata": {},
   "source": [
    "## Compile Blocklists"
   ]
  },
  {
   "cell_type": "code",
   "execution_count": 12,
   "id": "79f3f184",
   "metadata": {},
   "outputs": [
    {
     "name": "stdout",
     "output_type": "stream",
     "text": [
      "15237\n",
      "8824\n",
      "48\n",
      "4345\n",
      "21504\n",
      "72862\n",
      "12976\n",
      "1350\n",
      "1470\n"
     ]
    }
   ],
   "source": [
    "# blocklists\n",
    "blocklist_pharmacy_list = read_ip_blocklists('../data/raw/fig2/blocklist_pharmacy_safe_ip.txt')\n",
    "blocklist_pharmacy_list2 = read_ip_blocklists('../data/raw/fig2/blocklist_pharmacy_safe2_ip.txt')\n",
    "blocklist_pharmacy_fda_warning_letters = read_ip_blocklists('../data/raw/fig2/blocklist_pharmacy_list_fda_warnings_ip.txt')\n",
    "blocklist_firehol_level1 = read_ip_blocklists('../data/raw/fig2/blocklist_firehol_level1.netset',33)\n",
    "blocklist_de = read_ip_blocklists('../data/raw/fig2/blocklist_de.ipset',30)\n",
    "blocklist_net_ua = read_ip_blocklists('../data/raw/fig2/blocklist_net_ua.ipset',37)\n",
    "blocklist_botscout_30d = read_ip_blocklists('../data/raw/fig2/blocklist_botscout_30d.ipset',37)\n",
    "blocklist_spamhaus_drop = read_ip_blocklists('../data/raw/fig2/blocklist_spamhaus_drop.netset',33)\n",
    "whitelist_pharmacy_list = read_ip_blocklists('../data/raw/fig2/whitelist_pharmacy_safe_ip.txt')\n",
    "\n",
    "# length of each blocklist\n",
    "print(len(blocklist_pharmacy_list))\n",
    "print(len(blocklist_pharmacy_list2))\n",
    "print(len(blocklist_pharmacy_fda_warning_letters))\n",
    "print(len(blocklist_firehol_level1))\n",
    "print(len(blocklist_de))\n",
    "print(len(blocklist_net_ua))\n",
    "print(len(blocklist_botscout_30d))\n",
    "print(len(blocklist_spamhaus_drop))\n",
    "print(len(whitelist_pharmacy_list))"
   ]
  },
  {
   "cell_type": "markdown",
   "id": "a300cf0c",
   "metadata": {},
   "source": [
    "## Compare Overlap"
   ]
  },
  {
   "cell_type": "code",
   "execution_count": 13,
   "id": "15cfeda3",
   "metadata": {},
   "outputs": [
    {
     "name": "stdout",
     "output_type": "stream",
     "text": [
      "28\n",
      "20\n",
      "0\n",
      "0\n",
      "0\n",
      "0\n",
      "0\n",
      "0\n",
      "0\n",
      "\n",
      "55\n",
      "36\n",
      "0\n",
      "0\n",
      "0\n",
      "2\n",
      "0\n",
      "0\n",
      "0\n"
     ]
    }
   ],
   "source": [
    "# manual\n",
    "print(len(get_shared_entries(ip_list,blocklist_pharmacy_list)))\n",
    "print(len(get_shared_entries(ip_list,blocklist_pharmacy_list2)))\n",
    "print(len(get_shared_entries(ip_list,blocklist_pharmacy_fda_warning_letters)))\n",
    "print(len(get_shared_entries(ip_list,blocklist_firehol_level1)))\n",
    "print(len(get_shared_entries(ip_list,blocklist_de)))\n",
    "print(len(get_shared_entries(ip_list,blocklist_net_ua)))\n",
    "print(len(get_shared_entries(ip_list,blocklist_botscout_30d)))\n",
    "print(len(get_shared_entries(ip_list,blocklist_spamhaus_drop)))\n",
    "print(len(get_shared_entries(ip_list,whitelist_pharmacy_list)))\n",
    "print()\n",
    "\n",
    "# manual and llm\n",
    "print(len(get_shared_entries(ip_list_manual_llm,blocklist_pharmacy_list)))\n",
    "print(len(get_shared_entries(ip_list_manual_llm,blocklist_pharmacy_list2)))\n",
    "print(len(get_shared_entries(ip_list_manual_llm,blocklist_pharmacy_fda_warning_letters)))\n",
    "print(len(get_shared_entries(ip_list_manual_llm,blocklist_firehol_level1)))\n",
    "print(len(get_shared_entries(ip_list_manual_llm,blocklist_de)))\n",
    "print(len(get_shared_entries(ip_list_manual_llm,blocklist_net_ua)))\n",
    "print(len(get_shared_entries(ip_list_manual_llm,blocklist_botscout_30d)))\n",
    "print(len(get_shared_entries(ip_list_manual_llm,blocklist_spamhaus_drop)))\n",
    "print(len(get_shared_entries(ip_list_manual_llm,whitelist_pharmacy_list)))"
   ]
  },
  {
   "cell_type": "markdown",
   "id": "e5a6af9b",
   "metadata": {},
   "source": [
    "## Plot"
   ]
  },
  {
   "cell_type": "code",
   "execution_count": 14,
   "id": "773d8a09",
   "metadata": {},
   "outputs": [],
   "source": [
    "# # Sample labels and data\n",
    "# labels = ['pharmacy.safe blocklist', 'pharmacy.safe blocklist2', 'FDA Warning Letters', 'firehol_level1', 'blocklist_de', 'blocklist_net_ua', 'botscout_30d', 'spamhaus_drop', \n",
    "#              'pharmacy.safe whitelist']\n",
    "# x = np.arange(len(labels))\n",
    "\n",
    "# # Sample values\n",
    "# detection_rate = [\n",
    "#     len(get_shared_entries(ip_list,blocklist_pharmacy_list))/len(ip_list),\n",
    "#     len(get_shared_entries(ip_list,blocklist_pharmacy_list2))/len(ip_list),\n",
    "#     len(get_shared_entries(ip_list,blocklist_pharmacy_fda_warning_letters))/len(ip_list),\n",
    "#     len(get_shared_entries(ip_list,blocklist_firehol_level1))/len(ip_list),\n",
    "#     len(get_shared_entries(ip_list,blocklist_de))/len(ip_list),\n",
    "#     len(get_shared_entries(ip_list,blocklist_net_ua))/len(ip_list),\n",
    "#     len(get_shared_entries(ip_list,blocklist_botscout_30d))/len(ip_list),\n",
    "#     len(get_shared_entries(ip_list,blocklist_spamhaus_drop))/len(ip_list),\n",
    "#     len(get_shared_entries(ip_list,whitelist_pharmacy_list))/len(ip_list)\n",
    "# ]\n",
    "# blocklist_lengths = [\n",
    "#     len(blocklist_pharmacy_list),\n",
    "#     len(blocklist_pharmacy_list2),\n",
    "#     len(blocklist_pharmacy_fda_warning_letters),\n",
    "#     len(blocklist_firehol_level1),\n",
    "#     len(blocklist_de),\n",
    "#     len(blocklist_net_ua),\n",
    "#     len(blocklist_botscout_30d),\n",
    "#     len(blocklist_spamhaus_drop),\n",
    "#     len(whitelist_pharmacy_list)\n",
    "# ]\n",
    "\n",
    "# # Create plot\n",
    "# fig, ax1 = plt.subplots(figsize=(10, 5))\n",
    "# width = 0.4\n",
    "\n",
    "# # Left axis bars\n",
    "# ax1.bar(x - width/2, detection_rate, width, label='Blocklist Detection Rate', color='crimson')\n",
    "# ax1.set_ylabel('Detection Rate', color='crimson')\n",
    "# ax1.set_ylim(0, 0.01)\n",
    "# ax1.tick_params(axis='y', labelcolor='crimson')\n",
    "\n",
    "# # Right axis bars\n",
    "# ax2 = ax1.twinx()\n",
    "# ax2.bar(x + width/2, blocklist_lengths, width, label='Blocklist Length', color='steelblue')\n",
    "# ax2.set_ylabel('Blocklist Length', color='steelblue')\n",
    "# ax2.tick_params(axis='y', labelcolor='steelblue')\n",
    "# ax2.set_yscale('log')\n",
    "\n",
    "# # set x-ticks and vertical labels\n",
    "# ax1.set_xticks(x)\n",
    "# ax1.set_xticklabels(labels, rotation=45)\n",
    "\n",
    "# # Add x-axis label\n",
    "# ax1.set_xlabel(\"Blocklist Source\")\n",
    "\n",
    "# # Make sure the bottom axis line is visible\n",
    "# ax1.spines['bottom'].set_visible(True)\n",
    "\n",
    "# plt.tight_layout()\n",
    "# plt.grid()\n",
    "# plt.show()\n"
   ]
  },
  {
   "cell_type": "code",
   "execution_count": 15,
   "id": "2e23952c",
   "metadata": {},
   "outputs": [
    {
     "data": {
      "image/png": "[encoded data removed]",
      "text/plain": [
       "<Figure size 1000x500 with 2 Axes>"
      ]
     },
     "metadata": {},
     "output_type": "display_data"
    }
   ],
   "source": [
    "# Sample labels and data\n",
    "labels = ['pharmacy.safe blocklist', 'pharmacy.safe blocklist2', 'FDA Warning Letters', 'firehol_level1', 'blocklist_de', 'blocklist_net_ua', 'botscout_30d', 'spamhaus_drop', \n",
    "             'pharmacy.safe whitelist']\n",
    "x = np.arange(len(labels))\n",
    "\n",
    "# Sample values\n",
    "detection_rate = [\n",
    "    len(get_shared_entries(ip_list_manual_llm,blocklist_pharmacy_list))/len(ip_list_manual_llm),\n",
    "    len(get_shared_entries(ip_list_manual_llm,blocklist_pharmacy_list2))/len(ip_list_manual_llm),\n",
    "    len(get_shared_entries(ip_list_manual_llm,blocklist_pharmacy_fda_warning_letters))/len(ip_list_manual_llm),\n",
    "    len(get_shared_entries(ip_list_manual_llm,blocklist_firehol_level1))/len(ip_list_manual_llm),\n",
    "    len(get_shared_entries(ip_list_manual_llm,blocklist_de))/len(ip_list_manual_llm),\n",
    "    len(get_shared_entries(ip_list_manual_llm,blocklist_net_ua))/len(ip_list_manual_llm),\n",
    "    len(get_shared_entries(ip_list_manual_llm,blocklist_botscout_30d))/len(ip_list_manual_llm),\n",
    "    len(get_shared_entries(ip_list_manual_llm,blocklist_spamhaus_drop))/len(ip_list_manual_llm),\n",
    "    len(get_shared_entries(ip_list_manual_llm,whitelist_pharmacy_list))/len(ip_list_manual_llm)\n",
    "]\n",
    "blocklist_lengths = [\n",
    "    len(blocklist_pharmacy_list),\n",
    "    len(blocklist_pharmacy_list2),\n",
    "    len(blocklist_pharmacy_fda_warning_letters),\n",
    "    len(blocklist_firehol_level1),\n",
    "    len(blocklist_de),\n",
    "    len(blocklist_net_ua),\n",
    "    len(blocklist_botscout_30d),\n",
    "    len(blocklist_spamhaus_drop),\n",
    "    len(whitelist_pharmacy_list)\n",
    "]\n",
    "\n",
    "# Create plot\n",
    "fig, ax1 = plt.subplots(figsize=(10, 5))\n",
    "width = 0.4\n",
    "\n",
    "# Left axis bars\n",
    "ax1.bar(x - width/2, detection_rate, width, label='Blocklist Detection Rate', color='crimson')\n",
    "ax1.set_ylabel('Detection Rate', color='crimson')\n",
    "ax1.set_ylim(0, 0.01)\n",
    "ax1.tick_params(axis='y', labelcolor='crimson')\n",
    "\n",
    "# Right axis bars\n",
    "ax2 = ax1.twinx()\n",
    "ax2.bar(x + width/2, blocklist_lengths, width, label='Blocklist Length', color='steelblue')\n",
    "ax2.set_ylabel('Blocklist Length', color='steelblue')\n",
    "ax2.tick_params(axis='y', labelcolor='steelblue')\n",
    "ax2.set_yscale('log')\n",
    "\n",
    "# set x-ticks and vertical labels\n",
    "ax1.set_xticks(x)\n",
    "ax1.set_xticklabels(labels, rotation=45)\n",
    "\n",
    "# Add x-axis label\n",
    "ax1.set_xlabel(\"Blocklist Source\")\n",
    "\n",
    "# Make sure the bottom axis line is visible\n",
    "ax1.spines['bottom'].set_visible(True)\n",
    "\n",
    "plt.tight_layout()\n",
    "plt.grid()\n",
    "plt.savefig('../figures/fig2_blocklist_manual_llm.jpg')\n"
   ]
  },
  {
   "cell_type": "code",
   "execution_count": 16,
   "id": "111de646",
   "metadata": {},
   "outputs": [
    {
     "data": {
      "text/plain": [
       "8431"
      ]
     },
     "execution_count": 16,
     "metadata": {},
     "output_type": "execute_result"
    }
   ],
   "source": [
    "len(ip_list_manual_llm)"
   ]
  }
 ],
 "metadata": {
  "kernelspec": {
   "display_name": "ece239as_env",
   "language": "python",
   "name": "python3"
  },
  "language_info": {
   "codemirror_mode": {
    "name": "ipython",
    "version": 3
   },
   "file_extension": ".py",
   "mimetype": "text/x-python",
   "name": "python",
   "nbconvert_exporter": "python",
   "pygments_lexer": "ipython3",
   "version": "3.9.21"
  }
 },
 "nbformat": 4,
 "nbformat_minor": 5
}
